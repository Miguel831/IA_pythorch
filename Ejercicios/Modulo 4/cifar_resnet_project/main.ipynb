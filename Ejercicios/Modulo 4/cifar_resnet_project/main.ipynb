{
 "cells": [
  {
   "cell_type": "markdown",
   "id": "11c12e0c",
   "metadata": {},
   "source": [
    "# Proyecto CIFAR-10 con ResNet (Transfer Learning)\n",
    "\n",
    "Instrucciones para ejecutar los scripts del proyecto."
   ]
  },
  {
   "cell_type": "code",
   "execution_count": null,
   "id": "dab22b8a",
   "metadata": {},
   "outputs": [],
   "source": [
    "!pip install -q torch torchvision matplotlib seaborn scikit-learn tqdm"
   ]
  },
  {
   "cell_type": "markdown",
   "id": "bbc53956",
   "metadata": {},
   "source": [
    "## Ejecutar experimentos\n",
    "\n",
    "Ejecuta los siguientes comandos (desde la raíz del proyecto):\n",
    "\n",
    "```\n",
    "python models/resnet_scratch.py\n",
    "python models/resnet_feature_extract.py\n",
    "python models/resnet_finetune.py\n",
    "```"
   ]
  },
  {
   "cell_type": "code",
   "execution_count": null,
   "id": "5e8c9834",
   "metadata": {},
   "outputs": [],
   "source": [
    "import os\n",
    "for root, dirs, files in os.walk('.'):\n",
    "    if root.count(os.sep) <= 2:\n",
    "        print(root)\n",
    "        for f in files:\n",
    "            print('  ', f)"
   ]
  }
 ],
 "metadata": {},
 "nbformat": 4,
 "nbformat_minor": 5
}
